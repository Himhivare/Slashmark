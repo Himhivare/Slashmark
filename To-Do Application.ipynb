{
 "cells": [
  {
   "cell_type": "code",
   "execution_count": null,
   "id": "abd4ca43-e90e-4c78-b4b3-ae401d2630ee",
   "metadata": {},
   "outputs": [
    {
     "name": "stdout",
     "output_type": "stream",
     "text": [
      "To-Do List Application\n",
      "1. Add a task\n",
      "2. View tasks\n",
      "3. Mark task as completed\n",
      "4. Exit\n"
     ]
    }
   ],
   "source": [
    "def show_menu():\n",
    "    print(\"To-Do List Application\")\n",
    "    print(\"1. Add a task\")\n",
    "    print(\"2. View tasks\")\n",
    "    print(\"3. Mark task as completed\")\n",
    "    print(\"4. Exit\")\n",
    "\n",
    "def add_task(task):\n",
    "    with open(\"tasks.txt\", \"a\") as file:\n",
    "        file.write(task + \"\\n\")\n",
    "    print(\"Task added successfully!\")\n",
    "\n",
    "def view_tasks():\n",
    "    try:\n",
    "        with open(\"tasks.txt\", \"r\") as file:\n",
    "            tasks = file.readlines()\n",
    "            if tasks:\n",
    "                print(\"Tasks:\")\n",
    "                for idx, task in enumerate(tasks, start=1):\n",
    "                    print(f\"{idx}. {task.strip()}\")\n",
    "            else:\n",
    "                print(\"No tasks found.\")\n",
    "    except FileNotFoundError:\n",
    "        print(\"No tasks found.\")\n",
    "\n",
    "def mark_completed(task_index):\n",
    "    try:\n",
    "        with open(\"tasks.txt\", \"r\") as file:\n",
    "            tasks = file.readlines()\n",
    "        with open(\"tasks.txt\", \"w\") as file:\n",
    "            for idx, task in enumerate(tasks, start=1):\n",
    "                if idx == task_index:\n",
    "                    file.write(task.strip() + \" - Completed\\n\")\n",
    "                else:\n",
    "                    file.write(task)\n",
    "        print(\"Task marked as completed!\")\n",
    "    except FileNotFoundError:\n",
    "        print(\"No tasks found.\")\n",
    "\n",
    "def main():\n",
    "    while True:\n",
    "        show_menu()\n",
    "        choice = input(\"Enter your choice: \")\n",
    "\n",
    "        if choice == \"1\":\n",
    "            task = input(\"Enter the task: \")\n",
    "            add_task(task)\n",
    "        elif choice == \"2\":\n",
    "            view_tasks()\n",
    "        elif choice == \"3\":\n",
    "            task_index = int(input(\"Enter the index of the task to mark as completed: \"))\n",
    "            mark_completed(task_index)\n",
    "        elif choice == \"4\":\n",
    "            print(\"Exiting the application.\")\n",
    "            break\n",
    "        else:\n",
    "            print(\"Invalid choice. Please try again.\")\n",
    "\n",
    "if __name__ == \"__main__\":\n",
    "    main()\n"
   ]
  },
  {
   "cell_type": "code",
   "execution_count": null,
   "id": "e2698685-a4ff-4484-8345-aafbe5375ee4",
   "metadata": {},
   "outputs": [],
   "source": []
  }
 ],
 "metadata": {
  "kernelspec": {
   "display_name": "Python 3 (ipykernel)",
   "language": "python",
   "name": "python3"
  },
  "language_info": {
   "codemirror_mode": {
    "name": "ipython",
    "version": 3
   },
   "file_extension": ".py",
   "mimetype": "text/x-python",
   "name": "python",
   "nbconvert_exporter": "python",
   "pygments_lexer": "ipython3",
   "version": "3.11.5"
  }
 },
 "nbformat": 4,
 "nbformat_minor": 5
}

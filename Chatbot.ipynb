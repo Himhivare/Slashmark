{
 "cells": [
  {
   "cell_type": "code",
   "execution_count": 2,
   "id": "92cea64d-0585-4646-a7b3-1855d7d67f78",
   "metadata": {},
   "outputs": [
    {
     "name": "stdout",
     "output_type": "stream",
     "text": [
      "Hello! I'm a simple chatbot. Type 'exit' to end the conversation.\n"
     ]
    },
    {
     "name": "stdin",
     "output_type": "stream",
     "text": [
      "You:  hii\n"
     ]
    },
    {
     "name": "stdout",
     "output_type": "stream",
     "text": [
      "Bot: Hey!\n"
     ]
    },
    {
     "name": "stdin",
     "output_type": "stream",
     "text": [
      "You:  you name is\n"
     ]
    },
    {
     "name": "stdout",
     "output_type": "stream",
     "text": [
      "Bot: I'm just a simple chatbot, I don't understand everything yet.\n"
     ]
    },
    {
     "name": "stdin",
     "output_type": "stream",
     "text": [
      "You:  i love you\n"
     ]
    },
    {
     "name": "stdout",
     "output_type": "stream",
     "text": [
      "Bot: I'm just a simple chatbot, I don't understand everything yet.\n"
     ]
    },
    {
     "name": "stdin",
     "output_type": "stream",
     "text": [
      "You:  how are you\n"
     ]
    },
    {
     "name": "stdout",
     "output_type": "stream",
     "text": [
      "Bot: I'm just a simple chatbot, I don't understand everything yet.\n"
     ]
    },
    {
     "name": "stdin",
     "output_type": "stream",
     "text": [
      "You:  hey\n"
     ]
    },
    {
     "name": "stdout",
     "output_type": "stream",
     "text": [
      "Bot: Hey!\n"
     ]
    },
    {
     "name": "stdin",
     "output_type": "stream",
     "text": [
      "You:  hello\n"
     ]
    },
    {
     "name": "stdout",
     "output_type": "stream",
     "text": [
      "Bot: Greetings!\n"
     ]
    },
    {
     "name": "stdin",
     "output_type": "stream",
     "text": [
      "You:  hii\n"
     ]
    },
    {
     "name": "stdout",
     "output_type": "stream",
     "text": [
      "Bot: Hey!\n"
     ]
    },
    {
     "name": "stdin",
     "output_type": "stream",
     "text": [
      "You:  5+5\n"
     ]
    },
    {
     "name": "stdout",
     "output_type": "stream",
     "text": [
      "Bot: I'm just a simple chatbot, I don't understand everything yet.\n"
     ]
    },
    {
     "name": "stdin",
     "output_type": "stream",
     "text": [
      "You:  exit\n"
     ]
    },
    {
     "name": "stdout",
     "output_type": "stream",
     "text": [
      "See you later!\n"
     ]
    }
   ],
   "source": [
    "import random\n",
    "\n",
    "def greet():\n",
    "    responses = [\"Hi there!\", \"Hello!\", \"Hey!\", \"Greetings!\"]\n",
    "    return random.choice(responses)\n",
    "\n",
    "def farewell():\n",
    "    responses = [\"Goodbye!\", \"Farewell!\", \"See you later!\", \"Bye!\"]\n",
    "    return random.choice(responses)\n",
    "\n",
    "def respond(message):\n",
    "    greetings = [\"hello\", \"hi\", \"hey\", \"hola\", \"howdy\"]\n",
    "    farewells = [\"goodbye\", \"bye\", \"see you later\", \"see ya\"]\n",
    "\n",
    "    if any(word in message.lower() for word in greetings):\n",
    "        return greet()\n",
    "    elif any(word in message.lower() for word in farewells):\n",
    "        return farewell()\n",
    "    else:\n",
    "        return \"I'm just a simple chatbot, I don't understand everything yet.\"\n",
    "\n",
    "def main():\n",
    "    print(\"Hello! I'm a simple chatbot. Type 'exit' to end the conversation.\")\n",
    "    while True:\n",
    "        user_input = input(\"You: \")\n",
    "        if user_input.lower() == 'exit':\n",
    "            print(farewell())\n",
    "            break\n",
    "        else:\n",
    "            print(\"Bot:\", respond(user_input))\n",
    "\n",
    "if __name__ == \"__main__\":\n",
    "    main()"
   ]
  },
  {
   "cell_type": "code",
   "execution_count": null,
   "id": "f076a1d9-e91a-41f2-8165-b727fd82305b",
   "metadata": {},
   "outputs": [],
   "source": []
  }
 ],
 "metadata": {
  "kernelspec": {
   "display_name": "Python 3 (ipykernel)",
   "language": "python",
   "name": "python3"
  },
  "language_info": {
   "codemirror_mode": {
    "name": "ipython",
    "version": 3
   },
   "file_extension": ".py",
   "mimetype": "text/x-python",
   "name": "python",
   "nbconvert_exporter": "python",
   "pygments_lexer": "ipython3",
   "version": "3.11.5"
  }
 },
 "nbformat": 4,
 "nbformat_minor": 5
}

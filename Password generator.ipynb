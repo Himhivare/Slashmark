{
 "cells": [
  {
   "cell_type": "code",
   "execution_count": 3,
   "id": "2b3f17a1-a92c-4bc0-be8a-ad4d90912fea",
   "metadata": {},
   "outputs": [
    {
     "name": "stdout",
     "output_type": "stream",
     "text": [
      "Welcome to the PyPassword Generator!\n"
     ]
    },
    {
     "name": "stdin",
     "output_type": "stream",
     "text": [
      "How many letters would you like in your password?\n",
      " 3\n",
      "How many symbols would you like?\n",
      " 2\n",
      "How many numbers would you like?\n",
      " 2\n"
     ]
    },
    {
     "name": "stdout",
     "output_type": "stream",
     "text": [
      "Your password is: 4l$8u&d\n"
     ]
    }
   ],
   "source": [
    "# Password Generator Project\n",
    "\n",
    "import random\n",
    "letters = ['a', 'b', 'c', 'd', 'e', 'f', 'g', 'h', 'i', 'j', 'k', 'l', 'm', 'n', 'o', 'p', 'q', 'r', 's', 't', 'u', 'v', 'w', 'x', 'y', 'z', 'A', 'B', 'C', 'D', 'E', 'F', 'G', 'H', 'I', 'J', 'K', 'L', 'M', 'N', 'O', 'P', 'Q', 'R', 'S', 'T', 'U', 'V', 'W', 'X', 'Y', 'Z']\n",
    "numbers = ['0', '1', '2', '3', '4', '5', '6', '7', '8', '9']\n",
    "symbols = ['!', '#', '$', '%', '&', '(', ')', '*', '+']\n",
    "\n",
    "print(\"Welcome to the PyPassword Generator!\")\n",
    "nr_letters= int(input(\"How many letters would you like in your password?\\n\"))\n",
    "nr_symbols = int(input(\"How many symbols would you like?\\n\"))\n",
    "nr_numbers = int(input(\"How many numbers would you like?\\n\"))\n",
    "\n",
    "password = []\n",
    "for i in range(0, nr_letters):\n",
    "    password.append(random.choice(letters))\n",
    "\n",
    "for i in range(0, nr_symbols):\n",
    "    password.append(random.choice(symbols))\n",
    "\n",
    "for i in range(0, nr_numbers):\n",
    "    password.append(random.choice(numbers))\n",
    "\n",
    "random.shuffle(password)\n",
    "print(f\"Your password is: {''.join(password)}\")"
   ]
  },
  {
   "cell_type": "code",
   "execution_count": null,
   "id": "2da5e813-b70f-4f31-958e-3d7a3dbc4685",
   "metadata": {},
   "outputs": [],
   "source": []
  }
 ],
 "metadata": {
  "kernelspec": {
   "display_name": "Python 3 (ipykernel)",
   "language": "python",
   "name": "python3"
  },
  "language_info": {
   "codemirror_mode": {
    "name": "ipython",
    "version": 3
   },
   "file_extension": ".py",
   "mimetype": "text/x-python",
   "name": "python",
   "nbconvert_exporter": "python",
   "pygments_lexer": "ipython3",
   "version": "3.11.5"
  }
 },
 "nbformat": 4,
 "nbformat_minor": 5
}
